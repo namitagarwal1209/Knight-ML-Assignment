{
 "cells": [
  {
   "cell_type": "code",
   "execution_count": 1,
   "metadata": {},
   "outputs": [],
   "source": [
    "import pandas as pd\n",
    "import numpy as np\n",
    "\n",
    "import matplotlib.pyplot as plt\n",
    "import seaborn as sns\n",
    "\n",
    "import warnings\n",
    "warnings.simplefilter('ignore')\n",
    "\n",
    "from sklearn.preprocessing import LabelEncoder\n",
    "from sklearn.model_selection import train_test_split\n",
    "from sklearn.metrics import accuracy_score\n",
    "\n",
    "from sklearn.linear_model import LogisticRegression\n",
    "from sklearn.naive_bayes import MultinomialNB\n",
    "from sklearn.tree import DecisionTreeClassifier,ExtraTreeClassifier\n",
    "from sklearn.ensemble import AdaBoostClassifier,RandomForestClassifier,VotingClassifier,BaggingClassifier,ExtraTreesClassifier,GradientBoostingClassifier,BaggingClassifier,ExtraTreesClassifier\n",
    "\n",
    "from sklearn.neighbors import KNeighborsClassifier\n",
    "from sklearn.svm import SVC\n",
    "from sklearn.model_selection import cross_val_score\n",
    "\n",
    "import xgboost as xgb\n",
    "import lightgbm as lgb"
   ]
  },
  {
   "cell_type": "code",
   "execution_count": 2,
   "metadata": {},
   "outputs": [
    {
     "name": "stdout",
     "output_type": "stream",
     "text": [
      "(82657, 12)\n",
      "(20665, 11)\n"
     ]
    }
   ],
   "source": [
    "train = pd.read_csv(\"train.csv\")\n",
    "test = pd.read_csv(\"test.csv\")\n",
    "\n",
    "print(train.shape)\n",
    "print(test.shape)"
   ]
  },
  {
   "cell_type": "code",
   "execution_count": 3,
   "metadata": {},
   "outputs": [
    {
     "data": {
      "text/plain": [
       "Index(['user_name', 'country', 'review_title', 'review_description',\n",
       "       'designation', 'points', 'price', 'province', 'region_1', 'region_2',\n",
       "       'winery', 'variety'],\n",
       "      dtype='object')"
      ]
     },
     "execution_count": 3,
     "metadata": {},
     "output_type": "execute_result"
    }
   ],
   "source": [
    "train.columns"
   ]
  },
  {
   "cell_type": "code",
   "execution_count": 4,
   "metadata": {},
   "outputs": [
    {
     "data": {
      "text/plain": [
       "Index(['user_name', 'country', 'review_title', 'review_description',\n",
       "       'designation', 'points', 'price', 'province', 'region_1', 'region_2',\n",
       "       'winery'],\n",
       "      dtype='object')"
      ]
     },
     "execution_count": 4,
     "metadata": {},
     "output_type": "execute_result"
    }
   ],
   "source": [
    "test.columns"
   ]
  },
  {
   "cell_type": "markdown",
   "metadata": {},
   "source": [
    "<b>We need to predict the 'variety'"
   ]
  },
  {
   "cell_type": "markdown",
   "metadata": {},
   "source": [
    "<h3>Looking over data"
   ]
  },
  {
   "cell_type": "code",
   "execution_count": 5,
   "metadata": {},
   "outputs": [
    {
     "data": {
      "text/html": [
       "<div>\n",
       "<style scoped>\n",
       "    .dataframe tbody tr th:only-of-type {\n",
       "        vertical-align: middle;\n",
       "    }\n",
       "\n",
       "    .dataframe tbody tr th {\n",
       "        vertical-align: top;\n",
       "    }\n",
       "\n",
       "    .dataframe thead th {\n",
       "        text-align: right;\n",
       "    }\n",
       "</style>\n",
       "<table border=\"1\" class=\"dataframe\">\n",
       "  <thead>\n",
       "    <tr style=\"text-align: right;\">\n",
       "      <th></th>\n",
       "      <th>user_name</th>\n",
       "      <th>country</th>\n",
       "      <th>review_title</th>\n",
       "      <th>review_description</th>\n",
       "      <th>designation</th>\n",
       "      <th>points</th>\n",
       "      <th>price</th>\n",
       "      <th>province</th>\n",
       "      <th>region_1</th>\n",
       "      <th>region_2</th>\n",
       "      <th>winery</th>\n",
       "      <th>variety</th>\n",
       "    </tr>\n",
       "  </thead>\n",
       "  <tbody>\n",
       "    <tr>\n",
       "      <td>0</td>\n",
       "      <td>NaN</td>\n",
       "      <td>Australia</td>\n",
       "      <td>Andrew Peace 2007 Peace Family Vineyard Chardo...</td>\n",
       "      <td>Classic Chardonnay aromas of apple, pear and h...</td>\n",
       "      <td>Peace Family Vineyard</td>\n",
       "      <td>83</td>\n",
       "      <td>10.0</td>\n",
       "      <td>Australia Other</td>\n",
       "      <td>South Eastern Australia</td>\n",
       "      <td>NaN</td>\n",
       "      <td>Andrew Peace</td>\n",
       "      <td>Chardonnay</td>\n",
       "    </tr>\n",
       "    <tr>\n",
       "      <td>1</td>\n",
       "      <td>@wawinereport</td>\n",
       "      <td>US</td>\n",
       "      <td>North by Northwest 2014 Red (Columbia Valley (...</td>\n",
       "      <td>This wine is near equal parts Syrah and Merlot...</td>\n",
       "      <td>NaN</td>\n",
       "      <td>89</td>\n",
       "      <td>15.0</td>\n",
       "      <td>Washington</td>\n",
       "      <td>Columbia Valley (WA)</td>\n",
       "      <td>Columbia Valley</td>\n",
       "      <td>North by Northwest</td>\n",
       "      <td>Red Blend</td>\n",
       "    </tr>\n",
       "  </tbody>\n",
       "</table>\n",
       "</div>"
      ],
      "text/plain": [
       "       user_name    country  \\\n",
       "0            NaN  Australia   \n",
       "1  @wawinereport         US   \n",
       "\n",
       "                                        review_title  \\\n",
       "0  Andrew Peace 2007 Peace Family Vineyard Chardo...   \n",
       "1  North by Northwest 2014 Red (Columbia Valley (...   \n",
       "\n",
       "                                  review_description            designation  \\\n",
       "0  Classic Chardonnay aromas of apple, pear and h...  Peace Family Vineyard   \n",
       "1  This wine is near equal parts Syrah and Merlot...                    NaN   \n",
       "\n",
       "   points  price         province                 region_1         region_2  \\\n",
       "0      83   10.0  Australia Other  South Eastern Australia              NaN   \n",
       "1      89   15.0       Washington     Columbia Valley (WA)  Columbia Valley   \n",
       "\n",
       "               winery     variety  \n",
       "0        Andrew Peace  Chardonnay  \n",
       "1  North by Northwest   Red Blend  "
      ]
     },
     "execution_count": 5,
     "metadata": {},
     "output_type": "execute_result"
    }
   ],
   "source": [
    "train.head(2)"
   ]
  },
  {
   "cell_type": "code",
   "execution_count": 6,
   "metadata": {},
   "outputs": [
    {
     "data": {
      "text/html": [
       "<div>\n",
       "<style scoped>\n",
       "    .dataframe tbody tr th:only-of-type {\n",
       "        vertical-align: middle;\n",
       "    }\n",
       "\n",
       "    .dataframe tbody tr th {\n",
       "        vertical-align: top;\n",
       "    }\n",
       "\n",
       "    .dataframe thead th {\n",
       "        text-align: right;\n",
       "    }\n",
       "</style>\n",
       "<table border=\"1\" class=\"dataframe\">\n",
       "  <thead>\n",
       "    <tr style=\"text-align: right;\">\n",
       "      <th></th>\n",
       "      <th>user_name</th>\n",
       "      <th>country</th>\n",
       "      <th>review_title</th>\n",
       "      <th>review_description</th>\n",
       "      <th>designation</th>\n",
       "      <th>points</th>\n",
       "      <th>price</th>\n",
       "      <th>province</th>\n",
       "      <th>region_1</th>\n",
       "      <th>region_2</th>\n",
       "      <th>winery</th>\n",
       "    </tr>\n",
       "  </thead>\n",
       "  <tbody>\n",
       "    <tr>\n",
       "      <td>0</td>\n",
       "      <td>@paulgwine</td>\n",
       "      <td>US</td>\n",
       "      <td>Boedecker Cellars 2011 Athena Pinot Noir (Will...</td>\n",
       "      <td>Nicely differentiated from the companion Stewa...</td>\n",
       "      <td>Athena</td>\n",
       "      <td>88</td>\n",
       "      <td>35.0</td>\n",
       "      <td>Oregon</td>\n",
       "      <td>Willamette Valley</td>\n",
       "      <td>Willamette Valley</td>\n",
       "      <td>Boedecker Cellars</td>\n",
       "    </tr>\n",
       "    <tr>\n",
       "      <td>1</td>\n",
       "      <td>@wineschach</td>\n",
       "      <td>Argentina</td>\n",
       "      <td>Mendoza Vineyards 2012 Gran Reserva by Richard...</td>\n",
       "      <td>Charred, smoky, herbal aromas of blackberry tr...</td>\n",
       "      <td>Gran Reserva by Richard Bonvin</td>\n",
       "      <td>90</td>\n",
       "      <td>60.0</td>\n",
       "      <td>Mendoza Province</td>\n",
       "      <td>Mendoza</td>\n",
       "      <td>NaN</td>\n",
       "      <td>Mendoza Vineyards</td>\n",
       "    </tr>\n",
       "  </tbody>\n",
       "</table>\n",
       "</div>"
      ],
      "text/plain": [
       "     user_name    country                                       review_title  \\\n",
       "0  @paulgwine          US  Boedecker Cellars 2011 Athena Pinot Noir (Will...   \n",
       "1  @wineschach  Argentina  Mendoza Vineyards 2012 Gran Reserva by Richard...   \n",
       "\n",
       "                                  review_description  \\\n",
       "0  Nicely differentiated from the companion Stewa...   \n",
       "1  Charred, smoky, herbal aromas of blackberry tr...   \n",
       "\n",
       "                      designation  points  price          province  \\\n",
       "0                          Athena      88   35.0            Oregon   \n",
       "1  Gran Reserva by Richard Bonvin      90   60.0  Mendoza Province   \n",
       "\n",
       "            region_1           region_2             winery  \n",
       "0  Willamette Valley  Willamette Valley  Boedecker Cellars  \n",
       "1            Mendoza                NaN  Mendoza Vineyards  "
      ]
     },
     "execution_count": 6,
     "metadata": {},
     "output_type": "execute_result"
    }
   ],
   "source": [
    "test.head(2)"
   ]
  },
  {
   "cell_type": "code",
   "execution_count": 7,
   "metadata": {},
   "outputs": [
    {
     "name": "stdout",
     "output_type": "stream",
     "text": [
      "No of rows with user_name as Nan: 19393\n"
     ]
    }
   ],
   "source": [
    "print(\"No of rows with user_name as Nan:\",train['user_name'].isnull().sum())"
   ]
  },
  {
   "cell_type": "markdown",
   "metadata": {},
   "source": [
    "<b>Assumption: I'm treating the the rows with user_name:Nan to be a single customer.\n",
    "    For convenience I'm considering the user_name of those rows as @namit"
   ]
  },
  {
   "cell_type": "code",
   "execution_count": 8,
   "metadata": {},
   "outputs": [
    {
     "name": "stdout",
     "output_type": "stream",
     "text": [
      "No of rows with user_name as Nan: 0\n"
     ]
    }
   ],
   "source": [
    "train['user_name'] = train['user_name'].fillna('@namit')\n",
    "print(\"No of rows with user_name as Nan:\", train['user_name'].isnull().sum())"
   ]
  },
  {
   "cell_type": "code",
   "execution_count": 9,
   "metadata": {},
   "outputs": [],
   "source": [
    "#train['user_name'].value_counts()"
   ]
  },
  {
   "cell_type": "code",
   "execution_count": 10,
   "metadata": {},
   "outputs": [
    {
     "name": "stdout",
     "output_type": "stream",
     "text": [
      "No of rows with user_name as Nan: 4738\n",
      "No of rows with user_name as Nan: 0\n"
     ]
    }
   ],
   "source": [
    "print(\"No of rows with user_name as Nan:\",test['user_name'].isnull().sum())\n",
    "\n",
    "test['user_name'] = test['user_name'].fillna('@namit')\n",
    "print(\"No of rows with user_name as Nan:\", test['user_name'].isnull().sum())"
   ]
  },
  {
   "cell_type": "code",
   "execution_count": 11,
   "metadata": {},
   "outputs": [],
   "source": [
    "#test['user_name'].value_counts()"
   ]
  },
  {
   "cell_type": "code",
   "execution_count": 12,
   "metadata": {},
   "outputs": [
    {
     "name": "stdout",
     "output_type": "stream",
     "text": [
      "User present in train data but not in test data: ['@winewchristina']\n"
     ]
    }
   ],
   "source": [
    "a=train['user_name'].unique().tolist()\n",
    "b=test['user_name'].unique().tolist()\n",
    "\n",
    "print(\"User present in train data but not in test data:\",np.setdiff1d(a,b) )"
   ]
  },
  {
   "cell_type": "code",
   "execution_count": null,
   "metadata": {},
   "outputs": [],
   "source": []
  },
  {
   "cell_type": "code",
   "execution_count": 13,
   "metadata": {},
   "outputs": [
    {
     "name": "stdout",
     "output_type": "stream",
     "text": [
      "(82657, 12)\n",
      "(82622, 12)\n"
     ]
    }
   ],
   "source": [
    "#OBSERVATION: Rows which has null in 'country' also has null values in other state/region columns.\n",
    "#dropping rows which has null as country value\n",
    "\n",
    "\n",
    "print(train.shape)\n",
    "\n",
    "train = train.dropna(axis=0, subset=['country'])\n",
    "test = test.dropna(axis=0, subset=['country'])\n",
    "\n",
    "print(train.shape)"
   ]
  },
  {
   "cell_type": "code",
   "execution_count": 14,
   "metadata": {},
   "outputs": [
    {
     "data": {
      "text/plain": [
       "0"
      ]
     },
     "execution_count": 14,
     "metadata": {},
     "output_type": "execute_result"
    }
   ],
   "source": [
    "train['country'].isnull().sum()"
   ]
  },
  {
   "cell_type": "markdown",
   "metadata": {},
   "source": [
    "<h4> Replacing the row with null values with certain values"
   ]
  },
  {
   "cell_type": "code",
   "execution_count": 15,
   "metadata": {},
   "outputs": [],
   "source": [
    "#I've checked the rows with null values before doing the replacements"
   ]
  },
  {
   "cell_type": "code",
   "execution_count": 16,
   "metadata": {},
   "outputs": [],
   "source": [
    "train[\"region_1\"].fillna(\"no_region_1\", inplace = True) \n",
    "test[\"region_1\"].fillna(\"no_region_1\", inplace = True) "
   ]
  },
  {
   "cell_type": "code",
   "execution_count": 17,
   "metadata": {},
   "outputs": [],
   "source": [
    "train[\"region_2\"].fillna(\"no_region_2\", inplace = True) \n",
    "test[\"region_2\"].fillna(\"no_region_2\", inplace = True) "
   ]
  },
  {
   "cell_type": "code",
   "execution_count": 18,
   "metadata": {},
   "outputs": [],
   "source": [
    "train[\"designation\"].fillna(\"no_designation\", inplace = True) \n",
    "test[\"designation\"].fillna(\"no_designation\", inplace = True) "
   ]
  },
  {
   "cell_type": "code",
   "execution_count": 19,
   "metadata": {},
   "outputs": [
    {
     "name": "stdout",
     "output_type": "stream",
     "text": [
      "(82622, 12)\n"
     ]
    }
   ],
   "source": [
    "print(train.shape)"
   ]
  },
  {
   "cell_type": "markdown",
   "metadata": {},
   "source": [
    "<h4> Handling the Nan values in 'price' colummn"
   ]
  },
  {
   "cell_type": "code",
   "execution_count": 20,
   "metadata": {},
   "outputs": [
    {
     "data": {
      "text/plain": [
       "count    77057.000000\n",
       "mean        36.927093\n",
       "std         43.706034\n",
       "min          4.000000\n",
       "25%         18.000000\n",
       "50%         27.000000\n",
       "75%         45.000000\n",
       "max       3300.000000\n",
       "Name: price, dtype: float64"
      ]
     },
     "execution_count": 20,
     "metadata": {},
     "output_type": "execute_result"
    }
   ],
   "source": [
    "train['price'].describe() "
   ]
  },
  {
   "cell_type": "code",
   "execution_count": 21,
   "metadata": {},
   "outputs": [],
   "source": [
    "#1) min value= 4\n",
    "#2) max value seems like an outlier. let's check.\n",
    "#3) for now, considering null value to be 0 "
   ]
  },
  {
   "cell_type": "code",
   "execution_count": 22,
   "metadata": {},
   "outputs": [],
   "source": [
    "train[\"price\"].fillna(0, inplace = True) "
   ]
  },
  {
   "cell_type": "code",
   "execution_count": 23,
   "metadata": {},
   "outputs": [
    {
     "name": "stdout",
     "output_type": "stream",
     "text": [
      "0 percentile value is 0.0\n",
      "10 percentile value is 10.0\n",
      "20 percentile value is 14.0\n",
      "30 percentile value is 17.0\n",
      "40 percentile value is 20.0\n",
      "50 percentile value is 25.0\n",
      "60 percentile value is 30.0\n",
      "70 percentile value is 39.0\n",
      "80 percentile value is 49.0\n",
      "90 percentile value is 65.0\n",
      "100 percentile value is  3300.0\n"
     ]
    }
   ],
   "source": [
    "#calculating 0-100th percentile to find a the correct percentile value for removal of outliers\n",
    "for i in range(0,100,10):\n",
    "    var =train[\"price\"].values\n",
    "    var = np.sort(var,axis = None)\n",
    "    print(\"{} percentile value is {}\".format(i,var[int(len(var)*(float(i)/100))]))\n",
    "print (\"100 percentile value is \",var[-1])"
   ]
  },
  {
   "cell_type": "code",
   "execution_count": 24,
   "metadata": {},
   "outputs": [
    {
     "name": "stdout",
     "output_type": "stream",
     "text": [
      "90 percentile value is 65.0\n",
      "91 percentile value is 68.0\n",
      "92 percentile value is 70.0\n",
      "93 percentile value is 75.0\n",
      "94 percentile value is 80.0\n",
      "95 percentile value is 85.0\n",
      "96 percentile value is 90.0\n",
      "97 percentile value is 100.0\n",
      "98 percentile value is 125.0\n",
      "99 percentile value is 160.0\n",
      "100 percentile value is  3300.0\n"
     ]
    }
   ],
   "source": [
    "#calculating 90-100th percentile to find a the correct percentile value for removal of outliers\n",
    "for i in range(90,100):\n",
    "    var =train[\"price\"].values\n",
    "    var = np.sort(var,axis = None)\n",
    "    print(\"{} percentile value is {}\".format(i,var[int(len(var)*(float(i)/100))]))\n",
    "print (\"100 percentile value is \",var[-1])"
   ]
  },
  {
   "cell_type": "code",
   "execution_count": 25,
   "metadata": {},
   "outputs": [
    {
     "name": "stdout",
     "output_type": "stream",
     "text": [
      "99.0 percentile value is 160.0\n",
      "99.1 percentile value is 169.0\n",
      "99.2 percentile value is 175.0\n",
      "99.3 percentile value is 195.0\n",
      "99.4 percentile value is 200.0\n",
      "99.5 percentile value is 225.0\n",
      "99.6 percentile value is 250.0\n",
      "99.7 percentile value is 300.0\n",
      "99.8 percentile value is 360.0\n",
      "99.9 percentile value is 469.0\n",
      "100 percentile value is  3300.0\n"
     ]
    }
   ],
   "source": [
    "#calculating speed values at each percntile 99.0,99.1,99.2,99.3,99.4,99.5,99.6,99.7,99.8,99.9,100\n",
    "for i in np.arange(0.0, 1.0, 0.1):\n",
    "    var =train[\"price\"].values\n",
    "    var = np.sort(var,axis = None)\n",
    "    print(\"{} percentile value is {}\".format(99+i,var[int(len(var)*(float(99+i)/100))]))\n",
    "print(\"100 percentile value is \",var[-1])"
   ]
  },
  {
   "cell_type": "code",
   "execution_count": 26,
   "metadata": {},
   "outputs": [
    {
     "name": "stdout",
     "output_type": "stream",
     "text": [
      "82622 no of rows before\n",
      "82558 no of rows after\n"
     ]
    }
   ],
   "source": [
    "#Conisidering row with price<=500\n",
    "prev_shape = train.shape[0]\n",
    "print(prev_shape,\"no of rows before\")\n",
    "\n",
    "train = train[train['price']<=500.0]\n",
    "\n",
    "new_shape = train.shape[0]\n",
    "print(new_shape,\"no of rows after\")"
   ]
  },
  {
   "cell_type": "code",
   "execution_count": 27,
   "metadata": {},
   "outputs": [],
   "source": [
    "mean = train['price'].mean()"
   ]
  },
  {
   "cell_type": "code",
   "execution_count": 28,
   "metadata": {},
   "outputs": [],
   "source": [
    "#imputing the rows with null values with the mean values of price\n",
    "train['price'] = train['price'].replace(0,int(mean))"
   ]
  },
  {
   "cell_type": "code",
   "execution_count": 29,
   "metadata": {},
   "outputs": [
    {
     "name": "stdout",
     "output_type": "stream",
     "text": [
      "(82558, 12)\n",
      "(20661, 11)\n"
     ]
    }
   ],
   "source": [
    "print(train.shape)\n",
    "print(test.shape)"
   ]
  },
  {
   "cell_type": "markdown",
   "metadata": {},
   "source": [
    "<h3>Pre-processing Data"
   ]
  },
  {
   "cell_type": "code",
   "execution_count": 30,
   "metadata": {},
   "outputs": [],
   "source": [
    "def preprocess(data):\n",
    "    c_tr = [ctry.strip().replace('&','').replace('-',' ').replace('(','').replace(')','').replace(' ','_') for ctry in data]\n",
    "    \n",
    "    return c_tr"
   ]
  },
  {
   "cell_type": "code",
   "execution_count": 31,
   "metadata": {},
   "outputs": [],
   "source": [
    "train['p_country'] = preprocess(train['country'].values)\n",
    "test['p_country'] = preprocess(test['country'].values)\n",
    "\n",
    "train['p_designation'] = preprocess(train['designation'].values)\n",
    "test['p_designation'] = preprocess(test['designation'].values)\n",
    "\n",
    "train['p_province'] = preprocess(train['province'].values)\n",
    "test['p_province'] = preprocess(test['province'].values)\n",
    "\n",
    "train['p_region_1'] = preprocess(train['region_1'].values)\n",
    "test['p_region_1'] = preprocess(test['region_1'].values)\n",
    "\n",
    "train['p_region_2'] = preprocess(train['region_2'].values)\n",
    "test['p_region_2'] = preprocess(test['region_2'].values)\n",
    "\n",
    "train['p_winery'] = preprocess(train['winery'].values)\n",
    "test['p_winery'] = preprocess(test['winery'].values)\n",
    "\n",
    "train['p_variety'] = preprocess(train['variety'].values)\n",
    "\n",
    "\n",
    "train.drop(['country','designation','province','region_1','region_2','winery','variety'], axis=1, inplace=True)\n",
    "test.drop(['country','designation','province','region_1','region_2','winery'], axis=1, inplace=True)"
   ]
  },
  {
   "cell_type": "code",
   "execution_count": 32,
   "metadata": {},
   "outputs": [
    {
     "name": "stdout",
     "output_type": "stream",
     "text": [
      "(82558, 12)\n",
      "(20661, 11)\n"
     ]
    }
   ],
   "source": [
    "print(train.shape)\n",
    "print(test.shape)"
   ]
  },
  {
   "cell_type": "markdown",
   "metadata": {},
   "source": [
    "<h3> Pre-processing Text Data"
   ]
  },
  {
   "cell_type": "code",
   "execution_count": 33,
   "metadata": {},
   "outputs": [],
   "source": [
    "import re\n",
    "from tqdm import tqdm "
   ]
  },
  {
   "cell_type": "code",
   "execution_count": 34,
   "metadata": {},
   "outputs": [],
   "source": [
    "# https://stackoverflow.com/a/47091490/4084039\n",
    "import re\n",
    "\n",
    "def decontracted(phrase):\n",
    "    # specific\n",
    "    phrase = re.sub(r\"won't\", \"will not\", phrase)\n",
    "    phrase = re.sub(r\"can\\'t\", \"can not\", phrase)\n",
    "\n",
    "    # general\n",
    "    phrase = re.sub(r\"n\\'t\", \" not\", phrase)\n",
    "    phrase = re.sub(r\"\\'re\", \" are\", phrase)\n",
    "    phrase = re.sub(r\"\\'s\", \" is\", phrase)\n",
    "    phrase = re.sub(r\"\\'d\", \" would\", phrase)\n",
    "    phrase = re.sub(r\"\\'ll\", \" will\", phrase)\n",
    "    phrase = re.sub(r\"\\'t\", \" not\", phrase)\n",
    "    phrase = re.sub(r\"\\'ve\", \" have\", phrase)\n",
    "    phrase = re.sub(r\"\\'m\", \" am\", phrase)\n",
    "    return phrase"
   ]
  },
  {
   "cell_type": "code",
   "execution_count": 35,
   "metadata": {},
   "outputs": [],
   "source": [
    "# https://gist.github.com/sebleier/554280\n",
    "# we are removing the words from the stop words list: 'no', 'nor', 'not'\n",
    "stopwords= ['i', 'me', 'my', 'myself', 'we', 'our', 'ours', 'ourselves', 'you', \"you're\", \"you've\",\\\n",
    "            \"you'll\", \"you'd\", 'your', 'yours', 'yourself', 'yourselves', 'he', 'him', 'his', 'himself', \\\n",
    "            'she', \"she's\", 'her', 'hers', 'herself', 'it', \"it's\", 'its', 'itself', 'they', 'them', 'their',\\\n",
    "            'theirs', 'themselves', 'what', 'which', 'who', 'whom', 'this', 'that', \"that'll\", 'these', 'those', \\\n",
    "            'am', 'is', 'are', 'was', 'were', 'be', 'been', 'being', 'have', 'has', 'had', 'having', 'do', 'does', \\\n",
    "            'did', 'doing', 'a', 'an', 'the', 'and', 'but', 'if', 'or', 'because', 'as', 'until', 'while', 'of', \\\n",
    "            'at', 'by', 'for', 'with', 'about', 'against', 'between', 'into', 'through', 'during', 'before', 'after',\\\n",
    "            'above', 'below', 'to', 'from', 'up', 'down', 'in', 'out', 'on', 'off', 'over', 'under', 'again', 'further',\\\n",
    "            'then', 'once', 'here', 'there', 'when', 'where', 'why', 'how', 'all', 'any', 'both', 'each', 'few', 'more',\\\n",
    "            'most', 'other', 'some', 'such', 'only', 'own', 'same', 'so', 'than', 'too', 'very', \\\n",
    "            's', 't', 'can', 'will', 'just', 'don', \"don't\", 'should', \"should've\", 'now', 'd', 'll', 'm', 'o', 're', \\\n",
    "            've', 'y', 'ain', 'aren', \"aren't\", 'couldn', \"couldn't\", 'didn', \"didn't\", 'doesn', \"doesn't\", 'hadn',\\\n",
    "            \"hadn't\", 'hasn', \"hasn't\", 'haven', \"haven't\", 'isn', \"isn't\", 'ma', 'mightn', \"mightn't\", 'mustn',\\\n",
    "            \"mustn't\", 'needn', \"needn't\", 'shan', \"shan't\", 'shouldn', \"shouldn't\", 'wasn', \"wasn't\", 'weren', \"weren't\", \\\n",
    "            'won', \"won't\", 'wouldn', \"wouldn't\"]"
   ]
  },
  {
   "cell_type": "code",
   "execution_count": 36,
   "metadata": {},
   "outputs": [],
   "source": [
    "def preprocess_data(data):\n",
    "    preprocessed = []\n",
    "    # tqdm is for printing the status bar\n",
    "    for sentance in tqdm(data):\n",
    "        sent = decontracted(sentance)\n",
    "        sent = sent.replace('\\\\r', ' ') \n",
    "        sent = sent.replace('\\\\\"', ' ')\n",
    "        sent = sent.replace('\\\\n', ' ')\n",
    "        sent = re.sub('[^A-Za-z0-9]+', ' ', sent)\n",
    "        # https://gist.github.com/sebleier/554280\n",
    "        sent = ' '.join(e for e in sent.split() if e.lower() not in stopwords)\n",
    "        preprocessed.append(sent.lower().strip())\n",
    "        \n",
    "    return preprocessed"
   ]
  },
  {
   "cell_type": "code",
   "execution_count": 37,
   "metadata": {},
   "outputs": [
    {
     "name": "stderr",
     "output_type": "stream",
     "text": [
      "100%|██████████| 82558/82558 [00:11<00:00, 7252.95it/s]\n",
      "100%|██████████| 82558/82558 [00:03<00:00, 23484.90it/s]\n",
      "100%|██████████| 20661/20661 [00:02<00:00, 6991.11it/s]\n",
      "100%|██████████| 20661/20661 [00:01<00:00, 19493.44it/s]\n"
     ]
    }
   ],
   "source": [
    "preprocessed_essays_tr = preprocess_data(train['review_description'].values)\n",
    "preprocessed_title_tr = preprocess_data(train['review_title'].values)\n",
    "\n",
    "preprocessed_essays_te = preprocess_data(test['review_description'].values)\n",
    "preprocessed_title_te = preprocess_data(test['review_title'].values)"
   ]
  },
  {
   "cell_type": "code",
   "execution_count": 38,
   "metadata": {},
   "outputs": [],
   "source": [
    "train['p_essay'] = preprocessed_essays_tr\n",
    "train['p_title'] = preprocessed_title_tr\n",
    "\n",
    "train.drop(['review_title','review_description'], axis=1, inplace=True)\n",
    "\n",
    "\n",
    "test['p_essay'] = preprocessed_essays_te\n",
    "test['p_title'] = preprocessed_title_te\n",
    "\n",
    "test.drop(['review_title','review_description'], axis=1, inplace=True)"
   ]
  },
  {
   "cell_type": "code",
   "execution_count": 39,
   "metadata": {},
   "outputs": [
    {
     "data": {
      "text/html": [
       "<div>\n",
       "<style scoped>\n",
       "    .dataframe tbody tr th:only-of-type {\n",
       "        vertical-align: middle;\n",
       "    }\n",
       "\n",
       "    .dataframe tbody tr th {\n",
       "        vertical-align: top;\n",
       "    }\n",
       "\n",
       "    .dataframe thead th {\n",
       "        text-align: right;\n",
       "    }\n",
       "</style>\n",
       "<table border=\"1\" class=\"dataframe\">\n",
       "  <thead>\n",
       "    <tr style=\"text-align: right;\">\n",
       "      <th></th>\n",
       "      <th>user_name</th>\n",
       "      <th>points</th>\n",
       "      <th>price</th>\n",
       "      <th>p_country</th>\n",
       "      <th>p_designation</th>\n",
       "      <th>p_province</th>\n",
       "      <th>p_region_1</th>\n",
       "      <th>p_region_2</th>\n",
       "      <th>p_winery</th>\n",
       "      <th>p_variety</th>\n",
       "      <th>p_essay</th>\n",
       "      <th>p_title</th>\n",
       "    </tr>\n",
       "  </thead>\n",
       "  <tbody>\n",
       "    <tr>\n",
       "      <td>0</td>\n",
       "      <td>@namit</td>\n",
       "      <td>83</td>\n",
       "      <td>10.0</td>\n",
       "      <td>Australia</td>\n",
       "      <td>Peace_Family_Vineyard</td>\n",
       "      <td>Australia_Other</td>\n",
       "      <td>South_Eastern_Australia</td>\n",
       "      <td>no_region_2</td>\n",
       "      <td>Andrew_Peace</td>\n",
       "      <td>Chardonnay</td>\n",
       "      <td>classic chardonnay aromas apple pear hay lead ...</td>\n",
       "      <td>andrew peace 2007 peace family vineyard chardo...</td>\n",
       "    </tr>\n",
       "    <tr>\n",
       "      <td>1</td>\n",
       "      <td>@wawinereport</td>\n",
       "      <td>89</td>\n",
       "      <td>15.0</td>\n",
       "      <td>US</td>\n",
       "      <td>no_designation</td>\n",
       "      <td>Washington</td>\n",
       "      <td>Columbia_Valley_WA</td>\n",
       "      <td>Columbia_Valley</td>\n",
       "      <td>North_by_Northwest</td>\n",
       "      <td>Red_Blend</td>\n",
       "      <td>wine near equal parts syrah merlot balance cab...</td>\n",
       "      <td>north northwest 2014 red columbia valley wa</td>\n",
       "    </tr>\n",
       "  </tbody>\n",
       "</table>\n",
       "</div>"
      ],
      "text/plain": [
       "       user_name  points  price  p_country          p_designation  \\\n",
       "0         @namit      83   10.0  Australia  Peace_Family_Vineyard   \n",
       "1  @wawinereport      89   15.0         US         no_designation   \n",
       "\n",
       "        p_province               p_region_1       p_region_2  \\\n",
       "0  Australia_Other  South_Eastern_Australia      no_region_2   \n",
       "1       Washington       Columbia_Valley_WA  Columbia_Valley   \n",
       "\n",
       "             p_winery   p_variety  \\\n",
       "0        Andrew_Peace  Chardonnay   \n",
       "1  North_by_Northwest   Red_Blend   \n",
       "\n",
       "                                             p_essay  \\\n",
       "0  classic chardonnay aromas apple pear hay lead ...   \n",
       "1  wine near equal parts syrah merlot balance cab...   \n",
       "\n",
       "                                             p_title  \n",
       "0  andrew peace 2007 peace family vineyard chardo...  \n",
       "1        north northwest 2014 red columbia valley wa  "
      ]
     },
     "execution_count": 39,
     "metadata": {},
     "output_type": "execute_result"
    }
   ],
   "source": [
    "train.head(2)"
   ]
  },
  {
   "cell_type": "code",
   "execution_count": 40,
   "metadata": {},
   "outputs": [
    {
     "name": "stdout",
     "output_type": "stream",
     "text": [
      "(82558, 12)\n",
      "(20661, 11)\n"
     ]
    }
   ],
   "source": [
    "print(train.shape)\n",
    "print(test.shape)"
   ]
  },
  {
   "cell_type": "code",
   "execution_count": null,
   "metadata": {},
   "outputs": [],
   "source": []
  },
  {
   "cell_type": "markdown",
   "metadata": {},
   "source": [
    "Categorical Data:\n",
    "\n",
    "    1) user_name\n",
    "    2) country\n",
    "    3) designation\n",
    "    4) province\n",
    "    5) region_1\n",
    "    6) region_2\n",
    "    7) winery\n",
    "    8) variety\n",
    "        \n",
    "Numerical Data:\n",
    "\n",
    "    1) price\n",
    "    2) points\n",
    "\n",
    "Text Data:\n",
    "\n",
    "    1) review_title\n",
    "    2) review_description"
   ]
  },
  {
   "cell_type": "markdown",
   "metadata": {},
   "source": [
    "<h3>Encoding categorical Data"
   ]
  },
  {
   "cell_type": "code",
   "execution_count": 115,
   "metadata": {},
   "outputs": [],
   "source": [
    "feature_bow_list=[]  #creating this for feature importance (latter)"
   ]
  },
  {
   "cell_type": "code",
   "execution_count": 41,
   "metadata": {},
   "outputs": [],
   "source": [
    "from sklearn.feature_extraction.text import CountVectorizer"
   ]
  },
  {
   "cell_type": "code",
   "execution_count": 116,
   "metadata": {},
   "outputs": [
    {
     "name": "stdout",
     "output_type": "stream",
     "text": [
      "['anneinvino', 'bkfiona', 'gordone_cellars', 'joecz', 'kerinokeefe', 'laurbuzz', 'mattkettmann', 'namit', 'paulgwine', 'suskostrzewa', 'vboone', 'vossroger', 'wawinereport', 'wineschach', 'winewchristina', 'worldwineguys']\n",
      "(82558, 16)\n",
      "(20661, 16)\n"
     ]
    }
   ],
   "source": [
    "# we use count vectorizer to convert the values into one hot encoded features\n",
    "vectorizer = CountVectorizer()\n",
    "vectorizer.fit(train['user_name'].values)\n",
    "\n",
    "name_tr = vectorizer.transform(train['user_name'].values)\n",
    "name_te = vectorizer.transform(test['user_name'].values)\n",
    "\n",
    "feature_bow_list.extend(vectorizer.get_feature_names())\n",
    "\n",
    "print(vectorizer.get_feature_names())\n",
    "print(name_tr.shape)\n",
    "print(name_te.shape)"
   ]
  },
  {
   "cell_type": "code",
   "execution_count": 117,
   "metadata": {},
   "outputs": [
    {
     "name": "stdout",
     "output_type": "stream",
     "text": [
      "['argentina', 'australia', 'austria', 'brazil', 'bulgaria', 'canada', 'chile', 'croatia', 'cyprus', 'czech_republic', 'england', 'france', 'georgia', 'germany', 'greece', 'hungary', 'india', 'israel', 'italy', 'lebanon', 'luxembourg', 'macedonia', 'mexico', 'moldova', 'morocco', 'new_zealand', 'peru', 'portugal', 'romania', 'serbia', 'slovenia', 'south_africa', 'spain', 'switzerland', 'turkey', 'ukraine', 'uruguay', 'us']\n",
      "(82558, 38)\n",
      "(20661, 38)\n"
     ]
    }
   ],
   "source": [
    "vectorizer = CountVectorizer()\n",
    "vectorizer.fit(train['p_country'].values)\n",
    "\n",
    "country_tr = vectorizer.transform(train['p_country'].values)\n",
    "country_te = vectorizer.transform(test['p_country'].values)\n",
    "\n",
    "feature_bow_list.extend(vectorizer.get_feature_names())\n",
    "\n",
    "print(vectorizer.get_feature_names())\n",
    "print(country_tr.shape)\n",
    "print(country_te.shape)"
   ]
  },
  {
   "cell_type": "code",
   "execution_count": 118,
   "metadata": {},
   "outputs": [
    {
     "name": "stdout",
     "output_type": "stream",
     "text": [
      "(82558, 26445)\n",
      "(20661, 26445)\n"
     ]
    }
   ],
   "source": [
    "vectorizer = CountVectorizer()\n",
    "vectorizer.fit(train['p_designation'].values)\n",
    "\n",
    "designation_tr = vectorizer.transform(train['p_designation'].values)\n",
    "designation_te = vectorizer.transform(test['p_designation'].values)\n",
    "\n",
    "feature_bow_list.extend(vectorizer.get_feature_names())\n",
    "\n",
    "#print(vectorizer.get_feature_names())\n",
    "print(designation_tr.shape)\n",
    "print(designation_te.shape)"
   ]
  },
  {
   "cell_type": "code",
   "execution_count": 119,
   "metadata": {},
   "outputs": [
    {
     "name": "stdout",
     "output_type": "stream",
     "text": [
      "(82558, 359)\n",
      "(20661, 359)\n"
     ]
    }
   ],
   "source": [
    "vectorizer = CountVectorizer()\n",
    "vectorizer.fit(train['p_province'].values)\n",
    "\n",
    "province_tr = vectorizer.transform(train['p_province'].values)\n",
    "province_te = vectorizer.transform(test['p_province'].values)\n",
    "\n",
    "feature_bow_list.extend(vectorizer.get_feature_names())\n",
    "\n",
    "#print(vectorizer.get_feature_names())\n",
    "print(province_tr.shape)\n",
    "print(province_te.shape) "
   ]
  },
  {
   "cell_type": "code",
   "execution_count": 120,
   "metadata": {},
   "outputs": [
    {
     "name": "stdout",
     "output_type": "stream",
     "text": [
      "(82558, 1036)\n",
      "(20661, 1036)\n"
     ]
    }
   ],
   "source": [
    "vectorizer = CountVectorizer()\n",
    "vectorizer.fit(train['p_region_1'].values)\n",
    "\n",
    "region_1_tr = vectorizer.transform(train['p_region_1'].values)\n",
    "region_1_te = vectorizer.transform(test['p_region_1'].values)\n",
    "\n",
    "feature_bow_list.extend(vectorizer.get_feature_names())\n",
    "\n",
    "#print(vectorizer.get_feature_names())\n",
    "print(region_1_tr.shape)\n",
    "print(region_1_te.shape)"
   ]
  },
  {
   "cell_type": "code",
   "execution_count": 121,
   "metadata": {},
   "outputs": [
    {
     "name": "stdout",
     "output_type": "stream",
     "text": [
      "(82558, 18)\n",
      "(20661, 18)\n"
     ]
    }
   ],
   "source": [
    "vectorizer = CountVectorizer()\n",
    "vectorizer.fit(train['p_region_2'].values)\n",
    "\n",
    "region_2_tr = vectorizer.transform(train['p_region_2'].values)\n",
    "region_2_te = vectorizer.transform(test['p_region_2'].values)\n",
    "\n",
    "feature_bow_list.extend(vectorizer.get_feature_names())\n",
    "\n",
    "#print(vectorizer.get_feature_names())\n",
    "print(region_2_tr.shape)\n",
    "print(region_2_te.shape)"
   ]
  },
  {
   "cell_type": "code",
   "execution_count": 122,
   "metadata": {},
   "outputs": [
    {
     "name": "stdout",
     "output_type": "stream",
     "text": [
      "(82558, 13925)\n",
      "(20661, 13925)\n"
     ]
    }
   ],
   "source": [
    "vectorizer = CountVectorizer()\n",
    "vectorizer.fit(train['p_winery'].values)\n",
    "\n",
    "winery_tr = vectorizer.transform(train['p_winery'].values)\n",
    "winery_te = vectorizer.transform(test['p_winery'].values)\n",
    "\n",
    "feature_bow_list.extend(vectorizer.get_feature_names())\n",
    "\n",
    "#print(vectorizer.get_feature_names())\n",
    "print(winery_tr.shape)\n",
    "print(winery_te.shape)"
   ]
  },
  {
   "cell_type": "markdown",
   "metadata": {},
   "source": [
    "<h3> Encoding Numerical Data"
   ]
  },
  {
   "cell_type": "code",
   "execution_count": 123,
   "metadata": {},
   "outputs": [],
   "source": [
    "feature_bow_list.extend(['price','points'])"
   ]
  },
  {
   "cell_type": "code",
   "execution_count": 49,
   "metadata": {},
   "outputs": [],
   "source": [
    "from sklearn.preprocessing import Normalizer"
   ]
  },
  {
   "cell_type": "code",
   "execution_count": 50,
   "metadata": {},
   "outputs": [
    {
     "name": "stdout",
     "output_type": "stream",
     "text": [
      "(82558, 1)\n",
      "(20661, 1)\n"
     ]
    }
   ],
   "source": [
    "test['price'] = test['price'].fillna(0)\n",
    "\n",
    "scalar = Normalizer()\n",
    "scalar.fit(train['price'].values.reshape(1,-1))\n",
    "\n",
    "price_train = scalar.transform(train['price'].values.reshape(1,-1)).reshape(-1,1)\n",
    "price_test = scalar.transform(test['price'].values.reshape(1,-1)).reshape(-1,1)\n",
    "\n",
    "print(price_train.shape)\n",
    "print(price_test.shape) "
   ]
  },
  {
   "cell_type": "code",
   "execution_count": 51,
   "metadata": {},
   "outputs": [
    {
     "name": "stdout",
     "output_type": "stream",
     "text": [
      "(82558, 1)\n",
      "(20661, 1)\n"
     ]
    }
   ],
   "source": [
    "scalar = Normalizer()\n",
    "scalar.fit(train['points'].values.reshape(1,-1))\n",
    "\n",
    "points_train = scalar.transform(train['points'].values.reshape(1,-1)).reshape(-1,1)\n",
    "points_test = scalar.transform(test['points'].values.reshape(1,-1)).reshape(-1,1)\n",
    "\n",
    "print(points_train.shape)\n",
    "print(points_test.shape)"
   ]
  },
  {
   "cell_type": "code",
   "execution_count": null,
   "metadata": {},
   "outputs": [],
   "source": []
  },
  {
   "cell_type": "markdown",
   "metadata": {},
   "source": [
    "<h3> Encoding Text Data"
   ]
  },
  {
   "cell_type": "markdown",
   "metadata": {},
   "source": [
    "<h3> BOW"
   ]
  },
  {
   "cell_type": "code",
   "execution_count": 124,
   "metadata": {},
   "outputs": [
    {
     "name": "stdout",
     "output_type": "stream",
     "text": [
      "Shape of matrix after one hot encodig  (82558, 7177)\n",
      "Shape of matrix after one hot encodig  (20661, 7177)\n"
     ]
    }
   ],
   "source": [
    "#BOW essay\n",
    "# We are considering only the words which appeared in at least 10 documents(rows or projects).\n",
    "vectorizer = CountVectorizer(min_df=10)\n",
    "vectorizer.fit(train['p_essay']) #fit\n",
    "\n",
    "essay_bow_train = vectorizer.transform(train['p_essay']) #transform\n",
    "essay_bow_test = vectorizer.transform(test['p_essay']) #transform\n",
    "\n",
    "feature_bow_list.extend(vectorizer.get_feature_names())\n",
    "\n",
    "\n",
    "print(\"Shape of matrix after one hot encodig \",essay_bow_train.shape)\n",
    "print(\"Shape of matrix after one hot encodig \",essay_bow_test.shape)"
   ]
  },
  {
   "cell_type": "code",
   "execution_count": 125,
   "metadata": {},
   "outputs": [
    {
     "name": "stdout",
     "output_type": "stream",
     "text": [
      "Shape of matrix after one hot encodig  (82558, 5040)\n",
      "Shape of matrix after one hot encodig  (20661, 5040)\n"
     ]
    }
   ],
   "source": [
    "vectorizer = CountVectorizer(min_df=10)\n",
    "vectorizer.fit(train['p_title']) #fit\n",
    "\n",
    "title_bow_train = vectorizer.transform(train['p_title']) #transform\n",
    "title_bow_test = vectorizer.transform(test['p_title']) #transform\n",
    "\n",
    "feature_bow_list.extend(vectorizer.get_feature_names())\n",
    "\n",
    "\n",
    "print(\"Shape of matrix after one hot encodig \",title_bow_train.shape)\n",
    "print(\"Shape of matrix after one hot encodig \",title_bow_test.shape)"
   ]
  },
  {
   "cell_type": "markdown",
   "metadata": {},
   "source": [
    "<h3> Tf-idf"
   ]
  },
  {
   "cell_type": "code",
   "execution_count": 54,
   "metadata": {},
   "outputs": [
    {
     "name": "stdout",
     "output_type": "stream",
     "text": [
      "Shape of matrix after one hot encodig  (82558, 7177)\n",
      "Shape of matrix after one hot encodig  (20661, 7177)\n"
     ]
    }
   ],
   "source": [
    "#tf-idf essay\n",
    "from sklearn.feature_extraction.text import TfidfVectorizer\n",
    "vectorizer = TfidfVectorizer(min_df=10)\n",
    "vectorizer.fit(train['p_essay']) #fit\n",
    "\n",
    "essay_tfidf_train = vectorizer.transform(train['p_essay']) #transform\n",
    "essay_tfidf_test = vectorizer.transform(test['p_essay']) #transform\n",
    "\n",
    "\n",
    "print(\"Shape of matrix after one hot encodig \",essay_tfidf_train.shape)\n",
    "print(\"Shape of matrix after one hot encodig \",essay_tfidf_test.shape)"
   ]
  },
  {
   "cell_type": "code",
   "execution_count": 55,
   "metadata": {},
   "outputs": [
    {
     "name": "stdout",
     "output_type": "stream",
     "text": [
      "Shape of matrix after one hot encodig  (82558, 5040)\n",
      "Shape of matrix after one hot encodig  (20661, 5040)\n"
     ]
    }
   ],
   "source": [
    "#tfidf title \n",
    "\n",
    "vectorizer = TfidfVectorizer(min_df=10)\n",
    "vectorizer.fit(train['p_title']) #fit\n",
    "\n",
    "title_tfidf_train = vectorizer.transform(train['p_title']) #transform\n",
    "title_tfidf_test = vectorizer.transform(test['p_title']) #transform\n",
    "\n",
    "\n",
    "print(\"Shape of matrix after one hot encodig \",title_tfidf_train.shape)\n",
    "print(\"Shape of matrix after one hot encodig \",title_tfidf_test.shape)"
   ]
  },
  {
   "cell_type": "markdown",
   "metadata": {},
   "source": [
    "<h3>average - W2V"
   ]
  },
  {
   "cell_type": "code",
   "execution_count": 56,
   "metadata": {},
   "outputs": [
    {
     "name": "stderr",
     "output_type": "stream",
     "text": [
      "400000it [00:38, 10470.03it/s]\n"
     ]
    }
   ],
   "source": [
    "#loading pre-trained glove vectors\n",
    "import os\n",
    "embeddings_index = {}\n",
    "f = open(os.path.join('/Users/namitagarwal/Downloads/glove.6B/glove.6B.300d.txt'), encoding='utf8')\n",
    "for line in tqdm(f):\n",
    "    values = line.split()\n",
    "    word = values[0]\n",
    "    coefs = np.asarray(values[1:], dtype='float32')\n",
    "    embeddings_index[word] = coefs"
   ]
  },
  {
   "cell_type": "code",
   "execution_count": 57,
   "metadata": {},
   "outputs": [],
   "source": [
    "glove_words = embeddings_index.keys()"
   ]
  },
  {
   "cell_type": "code",
   "execution_count": 58,
   "metadata": {},
   "outputs": [
    {
     "name": "stderr",
     "output_type": "stream",
     "text": [
      "100%|██████████| 82558/82558 [00:08<00:00, 10031.35it/s]\n"
     ]
    },
    {
     "name": "stdout",
     "output_type": "stream",
     "text": [
      "82558\n",
      "300\n",
      "(82558, 300)\n"
     ]
    }
   ],
   "source": [
    "# average Word2Vec for train(essay)\n",
    "# compute average word2vec for each review.\n",
    "avg_w2v_vectors_essay_train = []; # the avg-w2v for each sentence/review is stored in this list\n",
    "for sentence in tqdm(train['p_essay']): # for each review/sentence\n",
    "    vector = np.zeros(300) # as word vectors are of zero length\n",
    "    cnt_words =0; # num of words with a valid vector in the sentence/review\n",
    "    for word in sentence.split(): # for each word in a review/sentence\n",
    "        if word in glove_words:\n",
    "            vector += embeddings_index[word]\n",
    "            cnt_words += 1\n",
    "    if cnt_words != 0:\n",
    "        vector /= cnt_words #calculatig (w2v(word_i))/(number of words in that sentence)\n",
    "    avg_w2v_vectors_essay_train.append(vector) #stores the w2v for all sentences/reviews in the entire dataset\n",
    "\n",
    "print(len(avg_w2v_vectors_essay_train))\n",
    "print(len(avg_w2v_vectors_essay_train[0]))\n",
    "\n",
    "avg_w2v_vectors_essay_train = np.array(avg_w2v_vectors_essay_train)\n",
    "print(avg_w2v_vectors_essay_train.shape)"
   ]
  },
  {
   "cell_type": "code",
   "execution_count": 59,
   "metadata": {},
   "outputs": [
    {
     "name": "stderr",
     "output_type": "stream",
     "text": [
      "100%|██████████| 20661/20661 [00:01<00:00, 11121.24it/s]\n"
     ]
    },
    {
     "name": "stdout",
     "output_type": "stream",
     "text": [
      "20661\n",
      "300\n",
      "(20661, 300)\n"
     ]
    }
   ],
   "source": [
    "# average Word2Vec for test(essay)\n",
    "# compute average word2vec for each review.\n",
    "avg_w2v_vectors_essay_test = []; # the avg-w2v for each sentence/review is stored in this list\n",
    "for sentence in tqdm(test['p_essay']): # for each review/sentence\n",
    "    vector = np.zeros(300) # as word vectors are of zero length\n",
    "    cnt_words =0; # num of words with a valid vector in the sentence/review\n",
    "    for word in sentence.split(): # for each word in a review/sentence\n",
    "        if word in glove_words:\n",
    "            vector += embeddings_index[word]\n",
    "            cnt_words += 1\n",
    "    if cnt_words != 0:\n",
    "        vector /= cnt_words #calculatig (w2v(word_i))/(number of words in that sentence)\n",
    "    avg_w2v_vectors_essay_test.append(vector) #stores the w2v for all sentences/reviews in the entire dataset\n",
    "\n",
    "print(len(avg_w2v_vectors_essay_test))\n",
    "print(len(avg_w2v_vectors_essay_test[0]))\n",
    "\n",
    "avg_w2v_vectors_essay_test = np.array(avg_w2v_vectors_essay_test)\n",
    "print(avg_w2v_vectors_essay_test.shape)"
   ]
  },
  {
   "cell_type": "code",
   "execution_count": 60,
   "metadata": {},
   "outputs": [
    {
     "name": "stderr",
     "output_type": "stream",
     "text": [
      "100%|██████████| 82558/82558 [00:03<00:00, 23188.11it/s]\n"
     ]
    },
    {
     "name": "stdout",
     "output_type": "stream",
     "text": [
      "82558\n",
      "300\n",
      "(82558, 300)\n"
     ]
    }
   ],
   "source": [
    "# average Word2Vec for train(title)\n",
    "# compute average word2vec for each review.\n",
    "avg_w2v_vectors_title_train = []; # the avg-w2v for each sentence/review is stored in this list\n",
    "for sentence in tqdm(train['p_title']): # for each review/sentence\n",
    "    vector = np.zeros(300) # as word vectors are of zero length\n",
    "    cnt_words =0; # num of words with a valid vector in the sentence/review\n",
    "    for word in sentence.split(): # for each word in a review/sentence\n",
    "        if word in glove_words:\n",
    "            vector += embeddings_index[word]\n",
    "            cnt_words += 1\n",
    "    if cnt_words != 0:\n",
    "        vector /= cnt_words #calculatig (w2v(word_i))/(number of words in that sentence)\n",
    "    avg_w2v_vectors_title_train.append(vector) #stores the w2v for all sentences/reviews in the entire dataset\n",
    "\n",
    "print(len(avg_w2v_vectors_title_train))\n",
    "print(len(avg_w2v_vectors_title_train[0]))\n",
    "\n",
    "avg_w2v_vectors_title_train = np.array(avg_w2v_vectors_title_train)\n",
    "print(avg_w2v_vectors_title_train.shape)"
   ]
  },
  {
   "cell_type": "code",
   "execution_count": 61,
   "metadata": {},
   "outputs": [
    {
     "name": "stderr",
     "output_type": "stream",
     "text": [
      "100%|██████████| 20661/20661 [00:00<00:00, 30642.48it/s]\n"
     ]
    },
    {
     "name": "stdout",
     "output_type": "stream",
     "text": [
      "20661\n",
      "300\n",
      "(20661, 300)\n"
     ]
    }
   ],
   "source": [
    "# average Word2Vec for test(title)\n",
    "# compute average word2vec for each review.\n",
    "avg_w2v_vectors_title_test = []; # the avg-w2v for each sentence/review is stored in this list\n",
    "for sentence in tqdm(test['p_title']): # for each review/sentence\n",
    "    vector = np.zeros(300) # as word vectors are of zero length\n",
    "    cnt_words =0; # num of words with a valid vector in the sentence/review\n",
    "    for word in sentence.split(): # for each word in a review/sentence\n",
    "        if word in glove_words:\n",
    "            vector += embeddings_index[word]\n",
    "            cnt_words += 1\n",
    "    if cnt_words != 0:\n",
    "        vector /= cnt_words #calculatig (w2v(word_i))/(number of words in that sentence)\n",
    "    avg_w2v_vectors_title_test.append(vector) #stores the w2v for all sentences/reviews in the entire dataset\n",
    "\n",
    "print(len(avg_w2v_vectors_title_test))\n",
    "print(len(avg_w2v_vectors_title_test[0]))\n",
    "\n",
    "avg_w2v_vectors_title_test = np.array(avg_w2v_vectors_title_test)\n",
    "print(avg_w2v_vectors_title_test.shape)"
   ]
  },
  {
   "cell_type": "markdown",
   "metadata": {},
   "source": [
    "<h3>tfidf-w2v"
   ]
  },
  {
   "cell_type": "code",
   "execution_count": 62,
   "metadata": {},
   "outputs": [],
   "source": [
    "#tfidf-w2v ESSAY\n",
    "tfidf_model = TfidfVectorizer()\n",
    "tfidf_model.fit(train['p_essay'])\n",
    "# we are converting a dictionary with word as a key, and the idf as a value\n",
    "dictionary = dict(zip(tfidf_model.get_feature_names(), list(tfidf_model.idf_)))\n",
    "tfidf_words = set(tfidf_model.get_feature_names())"
   ]
  },
  {
   "cell_type": "code",
   "execution_count": 63,
   "metadata": {},
   "outputs": [
    {
     "name": "stderr",
     "output_type": "stream",
     "text": [
      "100%|██████████| 82558/82558 [00:27<00:00, 2961.90it/s]\n"
     ]
    },
    {
     "name": "stdout",
     "output_type": "stream",
     "text": [
      "82558\n",
      "300\n",
      "(82558, 300)\n"
     ]
    }
   ],
   "source": [
    "tfidf_w2v_vectors_essay_train = [] # the avg-w2v for each sentence/review is stored in this list\n",
    "for sentence in tqdm(train['p_essay']): # for each review/sentence\n",
    "    vector = np.zeros(300) # as word vectors are of zero length\n",
    "    tf_idf_weight =0; # num of words with a valid vector in the sentence/review\n",
    "    for word in sentence.split(): # for each word in a review/sentence\n",
    "        if (word in glove_words) and (word in tfidf_words):\n",
    "            vec = embeddings_index[word] # getting the vector for each word\n",
    "            # here we are multiplying idf value(dictionary[word]) and the tf value((sentence.count(word)/len(sentence.split())))\n",
    "            tf_idf = dictionary[word]*(sentence.count(word)/len(sentence.split())) # getting the tfidf value for each word\n",
    "            vector += (vec * tf_idf) # calculating tfidf weighted w2v\n",
    "            tf_idf_weight += tf_idf\n",
    "    if tf_idf_weight != 0:\n",
    "        vector /= tf_idf_weight\n",
    "    tfidf_w2v_vectors_essay_train.append(vector)\n",
    "\n",
    "print(len(tfidf_w2v_vectors_essay_train))\n",
    "print(len(tfidf_w2v_vectors_essay_train[0]))\n",
    "\n",
    "tfidf_w2v_vectors_essay_train = np.array(tfidf_w2v_vectors_essay_train)\n",
    "print(tfidf_w2v_vectors_essay_train.shape)\n"
   ]
  },
  {
   "cell_type": "code",
   "execution_count": 64,
   "metadata": {},
   "outputs": [
    {
     "name": "stderr",
     "output_type": "stream",
     "text": [
      "100%|██████████| 20661/20661 [00:07<00:00, 2923.11it/s]\n"
     ]
    },
    {
     "name": "stdout",
     "output_type": "stream",
     "text": [
      "20661\n",
      "300\n",
      "(20661, 300)\n"
     ]
    }
   ],
   "source": [
    "tfidf_w2v_vectors_essay_test = [] # the avg-w2v for each sentence/review is stored in this list\n",
    "for sentence in tqdm(test['p_essay']): # for each review/sentence\n",
    "    vector = np.zeros(300) # as word vectors are of zero length\n",
    "    tf_idf_weight =0; # num of words with a valid vector in the sentence/review\n",
    "    for word in sentence.split(): # for each word in a review/sentence\n",
    "        if (word in glove_words) and (word in tfidf_words):\n",
    "            vec = embeddings_index[word] # getting the vector for each word\n",
    "            # here we are multiplying idf value(dictionary[word]) and the tf value((sentence.count(word)/len(sentence.split())))\n",
    "            tf_idf = dictionary[word]*(sentence.count(word)/len(sentence.split())) # getting the tfidf value for each word\n",
    "            vector += (vec * tf_idf) # calculating tfidf weighted w2v\n",
    "            tf_idf_weight += tf_idf\n",
    "    if tf_idf_weight != 0:\n",
    "        vector /= tf_idf_weight\n",
    "    tfidf_w2v_vectors_essay_test.append(vector)\n",
    "\n",
    "print(len(tfidf_w2v_vectors_essay_test))\n",
    "print(len(tfidf_w2v_vectors_essay_test[0]))\n",
    "\n",
    "tfidf_w2v_vectors_essay_test = np.array(tfidf_w2v_vectors_essay_test)\n",
    "print(tfidf_w2v_vectors_essay_test.shape)\n"
   ]
  },
  {
   "cell_type": "code",
   "execution_count": 65,
   "metadata": {},
   "outputs": [],
   "source": [
    "#tfidf-w2v title\n",
    "tfidf_model = TfidfVectorizer()\n",
    "tfidf_model.fit(train['p_title'])\n",
    "# we are converting a dictionary with word as a key, and the idf as a value\n",
    "dictionary = dict(zip(tfidf_model.get_feature_names(), list(tfidf_model.idf_)))\n",
    "tfidf_words = set(tfidf_model.get_feature_names())"
   ]
  },
  {
   "cell_type": "code",
   "execution_count": 66,
   "metadata": {},
   "outputs": [
    {
     "name": "stderr",
     "output_type": "stream",
     "text": [
      "100%|██████████| 82558/82558 [00:07<00:00, 11774.35it/s]\n"
     ]
    },
    {
     "name": "stdout",
     "output_type": "stream",
     "text": [
      "82558\n",
      "300\n",
      "(82558, 300)\n"
     ]
    }
   ],
   "source": [
    "tfidf_w2v_vectors_title_train = [] # the avg-w2v for each sentence/review is stored in this list\n",
    "for sentence in tqdm(train['p_title']): # for each review/sentence\n",
    "    vector = np.zeros(300) # as word vectors are of zero length\n",
    "    tf_idf_weight =0; # num of words with a valid vector in the sentence/review\n",
    "    for word in sentence.split(): # for each word in a review/sentence\n",
    "        if (word in glove_words) and (word in tfidf_words):\n",
    "            vec = embeddings_index[word] # getting the vector for each word\n",
    "            # here we are multiplying idf value(dictionary[word]) and the tf value((sentence.count(word)/len(sentence.split())))\n",
    "            tf_idf = dictionary[word]*(sentence.count(word)/len(sentence.split())) # getting the tfidf value for each word\n",
    "            vector += (vec * tf_idf) # calculating tfidf weighted w2v\n",
    "            tf_idf_weight += tf_idf\n",
    "    if tf_idf_weight != 0:\n",
    "        vector /= tf_idf_weight\n",
    "    tfidf_w2v_vectors_title_train.append(vector)\n",
    "\n",
    "print(len(tfidf_w2v_vectors_title_train))\n",
    "print(len(tfidf_w2v_vectors_title_train[0]))\n",
    "\n",
    "tfidf_w2v_vectors_title_train = np.array(tfidf_w2v_vectors_title_train)\n",
    "print(tfidf_w2v_vectors_title_train.shape)\n"
   ]
  },
  {
   "cell_type": "code",
   "execution_count": 67,
   "metadata": {},
   "outputs": [
    {
     "name": "stderr",
     "output_type": "stream",
     "text": [
      "100%|██████████| 20661/20661 [00:01<00:00, 13571.98it/s]\n"
     ]
    },
    {
     "name": "stdout",
     "output_type": "stream",
     "text": [
      "20661\n",
      "300\n",
      "(20661, 300)\n"
     ]
    }
   ],
   "source": [
    "tfidf_w2v_vectors_title_test = [] # the avg-w2v for each sentence/review is stored in this list\n",
    "for sentence in tqdm(test['p_title']): # for each review/sentence\n",
    "    vector = np.zeros(300) # as word vectors are of zero length\n",
    "    tf_idf_weight =0; # num of words with a valid vector in the sentence/review\n",
    "    for word in sentence.split(): # for each word in a review/sentence\n",
    "        if (word in glove_words) and (word in tfidf_words):\n",
    "            vec = embeddings_index[word] # getting the vector for each word\n",
    "            # here we are multiplying idf value(dictionary[word]) and the tf value((sentence.count(word)/len(sentence.split())))\n",
    "            tf_idf = dictionary[word]*(sentence.count(word)/len(sentence.split())) # getting the tfidf value for each word\n",
    "            vector += (vec * tf_idf) # calculating tfidf weighted w2v\n",
    "            tf_idf_weight += tf_idf\n",
    "    if tf_idf_weight != 0:\n",
    "        vector /= tf_idf_weight\n",
    "    tfidf_w2v_vectors_title_test.append(vector)\n",
    "\n",
    "print(len(tfidf_w2v_vectors_title_test))\n",
    "print(len(tfidf_w2v_vectors_title_test[0]))\n",
    "\n",
    "tfidf_w2v_vectors_title_test = np.array(tfidf_w2v_vectors_title_test)\n",
    "print(tfidf_w2v_vectors_title_test.shape)\n",
    "\n"
   ]
  },
  {
   "cell_type": "code",
   "execution_count": null,
   "metadata": {},
   "outputs": [],
   "source": []
  },
  {
   "cell_type": "markdown",
   "metadata": {},
   "source": [
    "<h3>Combining Data"
   ]
  },
  {
   "cell_type": "code",
   "execution_count": 68,
   "metadata": {},
   "outputs": [],
   "source": [
    "from scipy.sparse import hstack"
   ]
  },
  {
   "cell_type": "code",
   "execution_count": 69,
   "metadata": {},
   "outputs": [],
   "source": [
    "#BOW\n",
    "x_bow_train = hstack((name_tr,country_tr,designation_tr,province_tr,region_1_tr,region_2_tr,winery_tr,price_train,points_train,essay_bow_train,title_bow_train))\n",
    "x_bow_test = hstack((name_te,country_te,designation_te,province_te,region_1_te,region_2_te,winery_te,price_test,points_test,essay_bow_test,title_bow_test))\n",
    "\n",
    "#TFIDF\n",
    "x_tfidf_train = hstack((name_tr,country_tr,designation_tr,province_tr,region_1_tr,region_2_tr,winery_tr,price_train,points_train,essay_tfidf_train,title_tfidf_train))\n",
    "x_tfidf_test = hstack((name_te,country_te,designation_te,province_te,region_1_te,region_2_te,winery_te,price_test,points_test,essay_tfidf_test,title_tfidf_test))\n",
    "\n",
    "#avg-w2v\n",
    "x_w2v_train = hstack((name_tr,country_tr,designation_tr,province_tr,region_1_tr,region_2_tr,winery_tr,price_train,points_train,avg_w2v_vectors_essay_train,avg_w2v_vectors_title_train))\n",
    "x_w2v_test = hstack((name_te,country_te,designation_te,province_te,region_1_te,region_2_te,winery_te,price_test,points_test,avg_w2v_vectors_essay_test,avg_w2v_vectors_title_test))\n",
    "\n",
    "#tfidf-w2v\n",
    "x_tfidf_w2v_train = hstack((name_tr,country_tr,designation_tr,province_tr,region_1_tr,region_2_tr,winery_tr,price_train,points_train,tfidf_w2v_vectors_essay_train,tfidf_w2v_vectors_title_train))\n",
    "x_tfidf_w2v_test = hstack((name_te,country_te,designation_te,province_te,region_1_te,region_2_te,winery_te,price_test,points_test,tfidf_w2v_vectors_essay_test,tfidf_w2v_vectors_title_test))\n"
   ]
  },
  {
   "cell_type": "code",
   "execution_count": 70,
   "metadata": {},
   "outputs": [
    {
     "name": "stdout",
     "output_type": "stream",
     "text": [
      "(82558, 54056)\n",
      "(20661, 54056)\n",
      "(82558, 54056)\n",
      "(20661, 54056)\n",
      "(82558, 42439)\n",
      "(20661, 42439)\n",
      "(82558, 42439)\n",
      "(20661, 42439)\n"
     ]
    }
   ],
   "source": [
    "print(x_bow_train.shape)\n",
    "print(x_bow_test.shape)\n",
    "\n",
    "print(x_tfidf_train.shape)\n",
    "print(x_tfidf_test.shape)\n",
    "\n",
    "print(x_w2v_train.shape)\n",
    "print(x_w2v_test.shape)\n",
    "\n",
    "print(x_tfidf_w2v_train.shape)\n",
    "print(x_tfidf_w2v_test.shape)"
   ]
  },
  {
   "cell_type": "code",
   "execution_count": 126,
   "metadata": {},
   "outputs": [
    {
     "data": {
      "text/plain": [
       "54056"
      ]
     },
     "execution_count": 126,
     "metadata": {},
     "output_type": "execute_result"
    }
   ],
   "source": [
    "len(feature_bow_list)"
   ]
  },
  {
   "cell_type": "markdown",
   "metadata": {},
   "source": [
    "<h3>Encoding y\n",
    "    "
   ]
  },
  {
   "cell_type": "code",
   "execution_count": 71,
   "metadata": {},
   "outputs": [
    {
     "name": "stdout",
     "output_type": "stream",
     "text": [
      "(82558,)\n"
     ]
    }
   ],
   "source": [
    "from sklearn.preprocessing import LabelEncoder\n",
    "\n",
    "vectorizer = LabelEncoder()\n",
    "vectorizer.fit(train['p_variety'].values)\n",
    "\n",
    "variety_Y = vectorizer.transform(train['p_variety'].values)\n",
    "\n",
    "#print(vectorizer.get_feature_names())\n",
    "print(variety_Y.shape)\n"
   ]
  },
  {
   "cell_type": "code",
   "execution_count": 73,
   "metadata": {},
   "outputs": [
    {
     "data": {
      "text/plain": [
       "array([ 5, 17, 11, ...,  6,  0,  3])"
      ]
     },
     "execution_count": 73,
     "metadata": {},
     "output_type": "execute_result"
    }
   ],
   "source": [
    "variety_Y"
   ]
  },
  {
   "cell_type": "markdown",
   "metadata": {},
   "source": [
    "<h3>Modelling"
   ]
  },
  {
   "cell_type": "code",
   "execution_count": 74,
   "metadata": {},
   "outputs": [],
   "source": [
    "def baseliner(train, y, cv=3, metric='accuracy'):\n",
    "    \"\"\"\n",
    "    Function for baselining Models which return CV Score, Train Score, Valid Score\n",
    "    \"\"\"\n",
    "    print(\"Baseliner Models\\n\")\n",
    "    eval_dict = {}\n",
    "    models = [KNeighborsClassifier(),LogisticRegression(),MultinomialNB(),DecisionTreeClassifier(),RandomForestClassifier(),\n",
    "                lgb.LGBMClassifier(), xgb.XGBClassifier()]\n",
    "              \n",
    "             \n",
    "    print(\"Model Name \\t |   CV\")\n",
    "    print(\"--\" * 50)\n",
    "\n",
    "    for index, model in enumerate(models, 0):\n",
    "        model_name = str(model).split(\"(\")[0]\n",
    "        eval_dict[model_name] = {}\n",
    "\n",
    "        results = cross_val_score(model, train, y, cv=cv, scoring=metric)\n",
    "        eval_dict[model_name]['cv'] = results.mean()\n",
    "\n",
    "        print(\"%s \\t | %.4f \\t\" % (\n",
    "            model_name[:12], eval_dict[model_name]['cv']))"
   ]
  },
  {
   "cell_type": "markdown",
   "metadata": {},
   "source": [
    "<h3> With BOW dataset"
   ]
  },
  {
   "cell_type": "code",
   "execution_count": 98,
   "metadata": {},
   "outputs": [
    {
     "name": "stdout",
     "output_type": "stream",
     "text": [
      "Baseliner Models\n",
      "\n",
      "Model Name \t |   CV\n",
      "----------------------------------------------------------------------------------------------------\n",
      "KNeighborsCl \t | 0.7967 \t\n",
      "LogisticRegr \t | 0.9766 \t\n",
      "MultinomialN \t | 0.8222 \t\n",
      "DecisionTree \t | 0.9696 \t\n",
      "RandomForest \t | 0.9020 \t\n",
      "LGBMClassifi \t | 0.9779 \t\n",
      "XGBClassifie \t | 0.9731 \t\n"
     ]
    }
   ],
   "source": [
    "baseliner(x_bow_train, variety_Y)"
   ]
  },
  {
   "cell_type": "markdown",
   "metadata": {},
   "source": [
    "<h3> With tfidf dataset"
   ]
  },
  {
   "cell_type": "code",
   "execution_count": 99,
   "metadata": {},
   "outputs": [
    {
     "name": "stdout",
     "output_type": "stream",
     "text": [
      "Baseliner Models\n",
      "\n",
      "Model Name \t |   CV\n",
      "----------------------------------------------------------------------------------------------------\n",
      "KNeighborsCl \t | 0.6898 \t\n",
      "LogisticRegr \t | 0.9735 \t\n",
      "MultinomialN \t | 0.6802 \t\n",
      "DecisionTree \t | 0.9666 \t\n",
      "RandomForest \t | 0.8965 \t\n",
      "LGBMClassifi \t | 0.9764 \t\n",
      "XGBClassifie \t | 0.9722 \t\n"
     ]
    }
   ],
   "source": [
    "baseliner(x_tfidf_train, variety_Y)"
   ]
  },
  {
   "cell_type": "markdown",
   "metadata": {},
   "source": [
    "<h4> The run time for avg w2v and tfidf-w2v was very high."
   ]
  },
  {
   "cell_type": "markdown",
   "metadata": {},
   "source": [
    "<h3> With avg w2v dataset"
   ]
  },
  {
   "cell_type": "code",
   "execution_count": null,
   "metadata": {},
   "outputs": [],
   "source": [
    "#baseliner(x_w2v_train, variety_Y)"
   ]
  },
  {
   "cell_type": "markdown",
   "metadata": {},
   "source": [
    "<h3> With avg w2v-tfidf dataset"
   ]
  },
  {
   "cell_type": "code",
   "execution_count": null,
   "metadata": {},
   "outputs": [],
   "source": [
    "#baseliner(x_tfidf_w2v_train, variety_Y)"
   ]
  },
  {
   "cell_type": "markdown",
   "metadata": {},
   "source": [
    "<h3> Best Model + Feature Importance"
   ]
  },
  {
   "cell_type": "code",
   "execution_count": 94,
   "metadata": {},
   "outputs": [
    {
     "data": {
      "text/plain": [
       "LGBMClassifier(boosting_type='gbdt', class_weight=None, colsample_bytree=1.0,\n",
       "               importance_type='split', learning_rate=0.1, max_depth=-1,\n",
       "               min_child_samples=20, min_child_weight=0.001, min_split_gain=0.0,\n",
       "               n_estimators=100, n_jobs=-1, num_leaves=31, objective=None,\n",
       "               random_state=None, reg_alpha=0.0, reg_lambda=0.0, silent=True,\n",
       "               subsample=1.0, subsample_for_bin=200000, subsample_freq=0)"
      ]
     },
     "execution_count": 94,
     "metadata": {},
     "output_type": "execute_result"
    }
   ],
   "source": [
    "model = lgb.LGBMClassifier()\n",
    "model.fit(x_bow_train, variety_Y)"
   ]
  },
  {
   "cell_type": "code",
   "execution_count": 141,
   "metadata": {},
   "outputs": [],
   "source": [
    "feature_imp = pd.DataFrame(sorted(zip(model.feature_importances_,feature_bow_list)), columns=['Value','Feature'])\n",
    "\n",
    "#choosing top 20 features\n",
    "feature_imp = feature_imp.sort_values(by=['Value'],ascending=False)[:20] "
   ]
  },
  {
   "cell_type": "code",
   "execution_count": 145,
   "metadata": {},
   "outputs": [
    {
     "data": {
      "image/png": "[encoded data removed]",
      "text/plain": [
       "<Figure size 1440x720 with 1 Axes>"
      ]
     },
     "metadata": {
      "needs_background": "light"
     },
     "output_type": "display_data"
    }
   ],
   "source": [
    "plt.figure(figsize=(20, 10))\n",
    "sns.barplot(x=\"Value\", y=\"Feature\", data=feature_imp)#.sort_values(by=\"Value\", ascending=False))\n",
    "plt.title('LightGBM Features')\n",
    "plt.tight_layout()\n",
    "plt.show()"
   ]
  },
  {
   "cell_type": "code",
   "execution_count": null,
   "metadata": {},
   "outputs": [],
   "source": []
  },
  {
   "cell_type": "markdown",
   "metadata": {},
   "source": [
    "<h3>Conclusion"
   ]
  },
  {
   "cell_type": "markdown",
   "metadata": {},
   "source": [
    "By running the bow and tfidf datasets - maximum accuracy on TRAIN data - was found to be <b>97.79%</b> using the <b>LGBMClassifier</b> using the bow dataset.\n",
    "\n",
    "\n",
    "<B>TO NOTE:</B>\n",
    "Before sending the model to production few things have to be noted-\n",
    "    1. There may be chances of Overfitting here, so the train data needs to be split into train and validation data and Overfitting/Underfitting has to be taken care by hyperparameter tuning. \n",
    "    2. Feature Engineering can be applied to improve accuracy.\n",
    "    \n",
    "<b>Feature Engineering: (to be checked)</b>\n",
    "    1. No. of reviews per customer/user_name\n",
    "    2. No.of reviews per - a.country \n",
    "                           b.designation\n",
    "                           c. province\n",
    "                           d. region_1\n",
    "                           e. region_2\n",
    "                           f. winery\n",
    "    3. Alot range for - a. price\n",
    "                        b. points"
   ]
  },
  {
   "cell_type": "markdown",
   "metadata": {},
   "source": [
    "<h3>Summary"
   ]
  },
  {
   "cell_type": "markdown",
   "metadata": {},
   "source": [
    "1. The data was looked over and attributes were studied.\n",
    "2. NaN values were handled\n",
    "3. Imputation was done for the missing price values where I imputed the missing values with the mean value of the dataset.\n",
    "4. Data Preprocessing was done.\n",
    "5. Categorical, Numerical and Text Data were encoded and stacked together in a horizontal stack.\n",
    "6. Various models were trained on these hstack data"
   ]
  },
  {
   "cell_type": "code",
   "execution_count": null,
   "metadata": {},
   "outputs": [],
   "source": []
  }
 ],
 "metadata": {
  "kernelspec": {
   "display_name": "Python 3",
   "language": "python",
   "name": "python3"
  },
  "language_info": {
   "codemirror_mode": {
    "name": "ipython",
    "version": 3
   },
   "file_extension": ".py",
   "mimetype": "text/x-python",
   "name": "python",
   "nbconvert_exporter": "python",
   "pygments_lexer": "ipython3",
   "version": "3.7.4"
  }
 },
 "nbformat": 4,
 "nbformat_minor": 2
}
